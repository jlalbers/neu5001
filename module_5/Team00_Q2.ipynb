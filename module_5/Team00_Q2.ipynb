{
 "cells": [
  {
   "cell_type": "code",
   "execution_count": null,
   "id": "empirical-cooling",
   "metadata": {},
   "outputs": [],
   "source": [
    "'''\n",
    "Team 00\n",
    "Module 5 Team Question 2'''\n",
    "\n",
    "def staircase(even):\n",
    "    '''Function: staircase\n",
    "       Parameters: an even positive nonzero integer\n",
    "       Outputs: staircase of '*' with number of rows from parameter'''\n",
    "\n",
    "    print('\\n'*3)\n",
    "\n",
    "    half_even = even / 2\n",
    "\n",
    "    i = 1\n",
    "    \n",
    "    while i <= half_even:\n",
    "        spaces = (even - (2 * i)) * ' '\n",
    "        stars = '* ' * 2 * i\n",
    "        print((spaces + stars + '\\n') * 2, end= '')\n",
    "        i += 1\n",
    "\n",
    "    return\n",
    "\n",
    "\n",
    "def main():\n",
    "\n",
    "    user_input = int(input('Enter an even, positive nonzero number: '))\n",
    "\n",
    "    while user_input % 2 != 0 or user_input < 2:\n",
    "        user_input = int(input('Enter an even, positive nonzero number: '))\n",
    "    \n",
    "    staircase(user_input)\n",
    "\n",
    "\n",
    "main()\n"
   ]
  }
 ],
 "metadata": {
  "kernelspec": {
   "display_name": "Python 3",
   "language": "python",
   "name": "python3"
  },
  "language_info": {
   "codemirror_mode": {
    "name": "ipython",
    "version": 3
   },
   "file_extension": ".py",
   "mimetype": "text/x-python",
   "name": "python",
   "nbconvert_exporter": "python",
   "pygments_lexer": "ipython3",
   "version": "3.9.1"
  }
 },
 "nbformat": 4,
 "nbformat_minor": 5
}
