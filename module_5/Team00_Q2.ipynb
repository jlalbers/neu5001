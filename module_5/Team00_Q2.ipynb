{
 "cells": [
  {
   "cell_type": "code",
   "execution_count": 42,
   "id": "driving-evaluation",
   "metadata": {},
   "outputs": [
    {
     "data": {
      "application/vnd.jupyter.widget-view+json": {
       "model_id": "776e1bfb3a6f491f86a46228cfcb4eab",
       "version_major": 2,
       "version_minor": 0
      },
      "text/plain": [
       "interactive(children=(IntSlider(value=10, description='even', max=20, min=2, step=2), Output()), _dom_classes=…"
      ]
     },
     "metadata": {},
     "output_type": "display_data"
    },
    {
     "data": {
      "text/plain": [
       "<function __main__.staircase(even)>"
      ]
     },
     "execution_count": 42,
     "metadata": {},
     "output_type": "execute_result"
    }
   ],
   "source": [
    "import ipywidgets as widgets\n",
    "\n",
    "def staircase(even):\n",
    "    '''Function: staircase\n",
    "       Parameters: an even positive nonzero integer\n",
    "       Outputs: staircase of '*' with number of rows from parameter'''\n",
    "\n",
    "    print('\\n'*3)\n",
    "\n",
    "    half_even = even / 2\n",
    "\n",
    "    i = 1\n",
    "    \n",
    "    while i <= half_even:\n",
    "        spaces = (even - (2 * i)) * ' '\n",
    "        stars = '* ' * 2 * i\n",
    "        print((spaces + stars + '\\n') * 2, end= '')\n",
    "        i += 1\n",
    "\n",
    "    return\n",
    "\n",
    "widgets.interact(staircase, even=(2,20,2))"
   ]
  },
  {
   "cell_type": "code",
   "execution_count": null,
   "id": "floppy-toronto",
   "metadata": {},
   "outputs": [],
   "source": []
  }
 ],
 "metadata": {
  "kernelspec": {
   "display_name": "Python 3",
   "language": "python",
   "name": "python3"
  },
  "language_info": {
   "codemirror_mode": {
    "name": "ipython",
    "version": 3
   },
   "file_extension": ".py",
   "mimetype": "text/x-python",
   "name": "python",
   "nbconvert_exporter": "python",
   "pygments_lexer": "ipython3",
   "version": "3.9.1"
  }
 },
 "nbformat": 4,
 "nbformat_minor": 5
}
